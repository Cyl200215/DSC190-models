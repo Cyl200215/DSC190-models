{
 "cells": [
  {
   "cell_type": "code",
   "execution_count": 2,
   "metadata": {},
   "outputs": [],
   "source": [
    "import joblib\n",
    "import pickle\n",
    "import base64\n",
    "import json"
   ]
  },
  {
   "cell_type": "code",
   "execution_count": 2,
   "metadata": {},
   "outputs": [],
   "source": [
    "# Load the model from the cat_models.joblib file\n",
    "cat_models = joblib.load('D:\\Study\\DSC190\\DSC190-models\\homecredit-model-1\\model\\cat_models.joblib')\n",
    "\n",
    "# Save the model to a pickle file\n",
    "with open('D:\\Study\\DSC190\\DSC190-models\\homecredit-model-1\\model\\cat_models.pkl', 'wb') as file:\n",
    "    pickle.dump(cat_models, file)"
   ]
  },
  {
   "cell_type": "code",
   "execution_count": 3,
   "metadata": {},
   "outputs": [],
   "source": [
    "lgb_models = joblib.load('D:\\Study\\DSC190\\DSC190-models\\homecredit-model-1\\model\\lgb_models.joblib')\n",
    "\n",
    "# Save the model to a pickle file\n",
    "with open('D:\\Study\\DSC190\\DSC190-models\\homecredit-model-1\\model\\lgb_models.pkl', 'wb') as file:\n",
    "    pickle.dump(lgb_models, file)"
   ]
  },
  {
   "cell_type": "code",
   "execution_count": 8,
   "metadata": {},
   "outputs": [],
   "source": [
    "with open(\"D:\\Study\\DSC190\\DSC190-models\\homecredit-model-1\\model\\data.json\", \"r\") as f:\n",
    "        data = json.load(f)"
   ]
  },
  {
   "cell_type": "code",
   "execution_count": 9,
   "metadata": {},
   "outputs": [],
   "source": [
    "# Function to encode model to base64\n",
    "def encode_file_to_base64(file_path):\n",
    "    with open(file_path, 'rb') as file:\n",
    "        encoded_string = base64.b64encode(file.read()).decode('utf-8')\n",
    "    return encoded_string\n",
    "\n",
    "# Encode the cat_models and lgb_models\n",
    "cat_models_base64 = encode_file_to_base64('D:\\Study\\DSC190\\DSC190-models\\homecredit-model-1\\model\\cat_models.pkl')\n",
    "lgb_models_base64 = encode_file_to_base64('D:\\Study\\DSC190\\DSC190-models\\homecredit-model-1\\model\\lgb_models.pkl')\n",
    "\n",
    "# Add the encoded models to the notebook_info_data\n",
    "data['cat_models_base64'] = cat_models_base64\n",
    "data['lgb_models_base64'] = lgb_models_base64\n",
    "\n",
    "with open('D:\\Study\\DSC190\\DSC190-models\\homecredit-model-1\\model\\data_full.json', 'w') as json_file:\n",
    "    json.dump(data, json_file, indent=4)\n"
   ]
  },
  {
   "cell_type": "code",
   "execution_count": null,
   "metadata": {},
   "outputs": [],
   "source": []
  }
 ],
 "metadata": {
  "kernelspec": {
   "display_name": "base",
   "language": "python",
   "name": "python3"
  },
  "language_info": {
   "codemirror_mode": {
    "name": "ipython",
    "version": 3
   },
   "file_extension": ".py",
   "mimetype": "text/x-python",
   "name": "python",
   "nbconvert_exporter": "python",
   "pygments_lexer": "ipython3",
   "version": "3.11.7"
  }
 },
 "nbformat": 4,
 "nbformat_minor": 2
}
